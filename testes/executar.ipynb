{
 "cells": [
  {
   "cell_type": "markdown",
   "metadata": {},
   "source": [
    "# Trabalho Prático - Projeto e Análise de Algoritmos"
   ]
  },
  {
   "cell_type": "markdown",
   "metadata": {},
   "source": [
    "## Executando o programa"
   ]
  },
  {
   "cell_type": "markdown",
   "metadata": {},
   "source": [
    "Instalando requisitos"
   ]
  },
  {
   "cell_type": "code",
   "execution_count": 1,
   "metadata": {},
   "outputs": [
    {
     "name": "stdout",
     "output_type": "stream",
     "text": [
      "Requirement already satisfied: pandas in ./venv/lib64/python3.12/site-packages (2.2.2)\n",
      "Requirement already satisfied: numpy>=1.26.0 in ./venv/lib64/python3.12/site-packages (from pandas) (1.26.4)\n",
      "Requirement already satisfied: python-dateutil>=2.8.2 in ./venv/lib64/python3.12/site-packages (from pandas) (2.9.0.post0)\n",
      "Requirement already satisfied: pytz>=2020.1 in ./venv/lib64/python3.12/site-packages (from pandas) (2024.1)\n",
      "Requirement already satisfied: tzdata>=2022.7 in ./venv/lib64/python3.12/site-packages (from pandas) (2024.1)\n",
      "Requirement already satisfied: six>=1.5 in ./venv/lib64/python3.12/site-packages (from python-dateutil>=2.8.2->pandas) (1.16.0)\n",
      "\n",
      "\u001b[1m[\u001b[0m\u001b[34;49mnotice\u001b[0m\u001b[1;39;49m]\u001b[0m\u001b[39;49m A new release of pip is available: \u001b[0m\u001b[31;49m23.2.1\u001b[0m\u001b[39;49m -> \u001b[0m\u001b[32;49m24.0\u001b[0m\n",
      "\u001b[1m[\u001b[0m\u001b[34;49mnotice\u001b[0m\u001b[1;39;49m]\u001b[0m\u001b[39;49m To update, run: \u001b[0m\u001b[32;49mpip install --upgrade pip\u001b[0m\n",
      "Note: you may need to restart the kernel to use updated packages.\n"
     ]
    }
   ],
   "source": [
    "%pip install pandas"
   ]
  },
  {
   "cell_type": "markdown",
   "metadata": {},
   "source": [
    "Importando requisitos"
   ]
  },
  {
   "cell_type": "code",
   "execution_count": 2,
   "metadata": {},
   "outputs": [],
   "source": [
    "import subprocess\n",
    "import pandas"
   ]
  },
  {
   "cell_type": "markdown",
   "metadata": {},
   "source": [
    "Definindo variáveis"
   ]
  },
  {
   "cell_type": "code",
   "execution_count": 3,
   "metadata": {},
   "outputs": [],
   "source": [
    "distancias_minimas=[0, 1, 2, 4, 8, 16, 32, 64, 128, 256, 512, 1024]\n",
    "algoritmos=['forca-bruta', 'branch-and-bound']\n",
    "entradas = [\n",
    "    [1, 1, '1_franquias_1_lojas.txt'], # 1\n",
    "    [1, 2, '1_franquias_2_lojas.txt'], # 2\n",
    "    [1, 3, '1_franquias_3_lojas.txt'], # 3\n",
    "    [2, 2, '2_franquias_2_lojas.txt'], # 4\n",
    "    [1, 5, '1_franquias_5_lojas.txt'], # 5\n",
    "    [1, 6, '1_franquias_6_lojas.txt'], # 6\n",
    "    [1, 7, '1_franquias_7_lojas.txt'], # 7\n",
    "    [1, 8, '1_franquias_8_lojas.txt'], # 8\n",
    "    [3, 3, '3_franquias_3_lojas.txt'], # 9\n",
    "    [2, 5, '2_franquias_5_lojas.txt'], # 10\n",
    "    [5, 2, '5_franquias_2_lojas.txt'], # 10\n",
    "    [_, _, 'exemplo_professor.txt'] # 10\n",
    "    ]"
   ]
  },
  {
   "cell_type": "markdown",
   "metadata": {},
   "source": [
    "Executando o programa e salvando a saida"
   ]
  },
  {
   "cell_type": "code",
   "execution_count": 4,
   "metadata": {},
   "outputs": [],
   "source": [
    "dados = []\n",
    "for _ in range(3):\n",
    "    for entrada in entradas:\n",
    "        for distancia_minima in distancias_minimas:\n",
    "            for algoritmo in algoritmos:\n",
    "                saida = subprocess.run(['java -jar app.jar --calcular-tempo --arquivo-dados {} --distancia-minima {} --algoritmo {}'.format(entrada[2], distancia_minima, algoritmo)], shell=True, capture_output=True, text=True)\n",
    "                algoritmo = 'Força Bruta' if algoritmo == 'forca-bruta' else 'Branch and Bound'\n",
    "                dados.append([entrada[0], entrada[1], distancia_minima, algoritmo, saida.stdout.replace('\\n', '').replace('ns', ''), entrada[2]])"
   ]
  },
  {
   "cell_type": "markdown",
   "metadata": {},
   "source": [
    "Criando um pandas data frame"
   ]
  },
  {
   "cell_type": "code",
   "execution_count": 5,
   "metadata": {},
   "outputs": [],
   "source": [
    "legenda = ['Número de Franquias', 'Número de Lojas por franquia', 'Distância Mínima', 'Algoritmo', 'Tempo de Execução', 'Arquivo de Dados']"
   ]
  },
  {
   "cell_type": "code",
   "execution_count": 6,
   "metadata": {},
   "outputs": [],
   "source": [
    "dados = pandas.DataFrame(dados, columns=legenda)"
   ]
  },
  {
   "cell_type": "code",
   "execution_count": 7,
   "metadata": {},
   "outputs": [
    {
     "data": {
      "text/html": [
       "<div>\n",
       "<style scoped>\n",
       "    .dataframe tbody tr th:only-of-type {\n",
       "        vertical-align: middle;\n",
       "    }\n",
       "\n",
       "    .dataframe tbody tr th {\n",
       "        vertical-align: top;\n",
       "    }\n",
       "\n",
       "    .dataframe thead th {\n",
       "        text-align: right;\n",
       "    }\n",
       "</style>\n",
       "<table border=\"1\" class=\"dataframe\">\n",
       "  <thead>\n",
       "    <tr style=\"text-align: right;\">\n",
       "      <th></th>\n",
       "      <th>Número de Franquias</th>\n",
       "      <th>Número de Lojas por franquia</th>\n",
       "      <th>Distância Mínima</th>\n",
       "      <th>Algoritmo</th>\n",
       "      <th>Tempo de Execução</th>\n",
       "      <th>Arquivo de Dados</th>\n",
       "    </tr>\n",
       "  </thead>\n",
       "  <tbody>\n",
       "    <tr>\n",
       "      <th>0</th>\n",
       "      <td>1</td>\n",
       "      <td>1</td>\n",
       "      <td>0</td>\n",
       "      <td>Força Bruta</td>\n",
       "      <td>493534</td>\n",
       "      <td>1_franquias_1_lojas.txt</td>\n",
       "    </tr>\n",
       "    <tr>\n",
       "      <th>1</th>\n",
       "      <td>1</td>\n",
       "      <td>1</td>\n",
       "      <td>0</td>\n",
       "      <td>Branch and Bound</td>\n",
       "      <td>524981</td>\n",
       "      <td>1_franquias_1_lojas.txt</td>\n",
       "    </tr>\n",
       "    <tr>\n",
       "      <th>2</th>\n",
       "      <td>1</td>\n",
       "      <td>1</td>\n",
       "      <td>1</td>\n",
       "      <td>Força Bruta</td>\n",
       "      <td>540324</td>\n",
       "      <td>1_franquias_1_lojas.txt</td>\n",
       "    </tr>\n",
       "    <tr>\n",
       "      <th>3</th>\n",
       "      <td>1</td>\n",
       "      <td>1</td>\n",
       "      <td>1</td>\n",
       "      <td>Branch and Bound</td>\n",
       "      <td>469666</td>\n",
       "      <td>1_franquias_1_lojas.txt</td>\n",
       "    </tr>\n",
       "    <tr>\n",
       "      <th>4</th>\n",
       "      <td>1</td>\n",
       "      <td>1</td>\n",
       "      <td>2</td>\n",
       "      <td>Força Bruta</td>\n",
       "      <td>466780</td>\n",
       "      <td>1_franquias_1_lojas.txt</td>\n",
       "    </tr>\n",
       "    <tr>\n",
       "      <th>...</th>\n",
       "      <td>...</td>\n",
       "      <td>...</td>\n",
       "      <td>...</td>\n",
       "      <td>...</td>\n",
       "      <td>...</td>\n",
       "      <td>...</td>\n",
       "    </tr>\n",
       "    <tr>\n",
       "      <th>859</th>\n",
       "      <td></td>\n",
       "      <td></td>\n",
       "      <td>256</td>\n",
       "      <td>Branch and Bound</td>\n",
       "      <td>8235475</td>\n",
       "      <td>exemplo_professor.txt</td>\n",
       "    </tr>\n",
       "    <tr>\n",
       "      <th>860</th>\n",
       "      <td></td>\n",
       "      <td></td>\n",
       "      <td>512</td>\n",
       "      <td>Força Bruta</td>\n",
       "      <td>787345680</td>\n",
       "      <td>exemplo_professor.txt</td>\n",
       "    </tr>\n",
       "    <tr>\n",
       "      <th>861</th>\n",
       "      <td></td>\n",
       "      <td></td>\n",
       "      <td>512</td>\n",
       "      <td>Branch and Bound</td>\n",
       "      <td>11763731</td>\n",
       "      <td>exemplo_professor.txt</td>\n",
       "    </tr>\n",
       "    <tr>\n",
       "      <th>862</th>\n",
       "      <td></td>\n",
       "      <td></td>\n",
       "      <td>1024</td>\n",
       "      <td>Força Bruta</td>\n",
       "      <td>740887443</td>\n",
       "      <td>exemplo_professor.txt</td>\n",
       "    </tr>\n",
       "    <tr>\n",
       "      <th>863</th>\n",
       "      <td></td>\n",
       "      <td></td>\n",
       "      <td>1024</td>\n",
       "      <td>Branch and Bound</td>\n",
       "      <td>8573244</td>\n",
       "      <td>exemplo_professor.txt</td>\n",
       "    </tr>\n",
       "  </tbody>\n",
       "</table>\n",
       "<p>864 rows × 6 columns</p>\n",
       "</div>"
      ],
      "text/plain": [
       "    Número de Franquias Número de Lojas por franquia  Distância Mínima  \\\n",
       "0                     1                            1                 0   \n",
       "1                     1                            1                 0   \n",
       "2                     1                            1                 1   \n",
       "3                     1                            1                 1   \n",
       "4                     1                            1                 2   \n",
       "..                  ...                          ...               ...   \n",
       "859                                                                256   \n",
       "860                                                                512   \n",
       "861                                                                512   \n",
       "862                                                               1024   \n",
       "863                                                               1024   \n",
       "\n",
       "            Algoritmo Tempo de Execução         Arquivo de Dados  \n",
       "0         Força Bruta            493534  1_franquias_1_lojas.txt  \n",
       "1    Branch and Bound            524981  1_franquias_1_lojas.txt  \n",
       "2         Força Bruta            540324  1_franquias_1_lojas.txt  \n",
       "3    Branch and Bound            469666  1_franquias_1_lojas.txt  \n",
       "4         Força Bruta            466780  1_franquias_1_lojas.txt  \n",
       "..                ...               ...                      ...  \n",
       "859  Branch and Bound           8235475    exemplo_professor.txt  \n",
       "860       Força Bruta         787345680    exemplo_professor.txt  \n",
       "861  Branch and Bound          11763731    exemplo_professor.txt  \n",
       "862       Força Bruta         740887443    exemplo_professor.txt  \n",
       "863  Branch and Bound           8573244    exemplo_professor.txt  \n",
       "\n",
       "[864 rows x 6 columns]"
      ]
     },
     "execution_count": 7,
     "metadata": {},
     "output_type": "execute_result"
    }
   ],
   "source": [
    "dados"
   ]
  },
  {
   "cell_type": "markdown",
   "metadata": {},
   "source": [
    "Exportando dados"
   ]
  },
  {
   "cell_type": "code",
   "execution_count": 8,
   "metadata": {},
   "outputs": [],
   "source": [
    "dados.to_csv('dados.csv', index=False)"
   ]
  }
 ],
 "metadata": {
  "kernelspec": {
   "display_name": "venv",
   "language": "python",
   "name": "python3"
  },
  "language_info": {
   "codemirror_mode": {
    "name": "ipython",
    "version": 3
   },
   "file_extension": ".py",
   "mimetype": "text/x-python",
   "name": "python",
   "nbconvert_exporter": "python",
   "pygments_lexer": "ipython3",
   "version": "3.12.1"
  }
 },
 "nbformat": 4,
 "nbformat_minor": 2
}
