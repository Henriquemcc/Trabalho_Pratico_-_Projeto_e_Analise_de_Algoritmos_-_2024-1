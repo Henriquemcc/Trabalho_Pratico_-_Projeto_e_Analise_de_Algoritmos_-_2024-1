{
 "cells": [
  {
   "cell_type": "markdown",
   "metadata": {},
   "source": [
    "# Trabalho Prático - Projeto e Análise de Algoritmos"
   ]
  },
  {
   "cell_type": "markdown",
   "metadata": {},
   "source": [
    "## Executando o programa"
   ]
  },
  {
   "cell_type": "markdown",
   "metadata": {},
   "source": [
    "Instalando requisitos"
   ]
  },
  {
   "cell_type": "code",
   "execution_count": null,
   "metadata": {},
   "outputs": [],
   "source": [
    "%pip install pandas"
   ]
  },
  {
   "cell_type": "markdown",
   "metadata": {},
   "source": [
    "Importando requisitos"
   ]
  },
  {
   "cell_type": "code",
   "execution_count": 2,
   "metadata": {},
   "outputs": [],
   "source": [
    "import subprocess\n",
    "import pandas"
   ]
  },
  {
   "cell_type": "markdown",
   "metadata": {},
   "source": [
    "Definindo variáveis"
   ]
  },
  {
   "cell_type": "code",
   "execution_count": 3,
   "metadata": {},
   "outputs": [],
   "source": [
    "distancias_minimas=[0, 1, 2, 4, 8, 16, 32, 64, 128, 256, 512, 1024]\n",
    "algoritmos=['forca-bruta', 'branch-and-bound']\n",
    "entradas = [\n",
    "    [1, 1, '1_franquias_1_lojas.txt'], # 1\n",
    "    [1, 2, '1_franquias_2_lojas.txt'], # 2\n",
    "    [1, 3, '1_franquias_3_lojas.txt'], # 3\n",
    "    [2, 2, '2_franquias_2_lojas.txt'], # 4\n",
    "    [1, 5, '1_franquias_5_lojas.txt'], # 5\n",
    "    [1, 6, '1_franquias_6_lojas.txt'], # 6\n",
    "    [1, 7, '1_franquias_7_lojas.txt'], # 7\n",
    "    [1, 8, '1_franquias_8_lojas.txt'], # 8\n",
    "    [3, 3, '3_franquias_3_lojas.txt'], # 9\n",
    "    [2, 5, '2_franquias_5_lojas.txt'], # 10\n",
    "    [5, 2, '5_franquias_2_lojas.txt'], # 10\n",
    "    [_, _, 'exemplo_professor.txt'] # 10\n",
    "    ]"
   ]
  },
  {
   "cell_type": "markdown",
   "metadata": {},
   "source": [
    "Executando o programa e salvando a saida"
   ]
  },
  {
   "cell_type": "code",
   "execution_count": 4,
   "metadata": {},
   "outputs": [],
   "source": [
    "dados = []\n",
    "for _ in range(3):\n",
    "    for entrada in entradas:\n",
    "        for distancia_minima in distancias_minimas:\n",
    "            for algoritmo in algoritmos:\n",
    "                saida = subprocess.run(['java -jar app.jar --calcular-tempo --arquivo-dados {} --distancia-minima {} --algoritmo {}'.format(entrada[2], distancia_minima, algoritmo)], shell=True, capture_output=True, text=True)\n",
    "                algoritmo = 'Força Bruta' if algoritmo == 'forca-bruta' else 'Branch and Bound'\n",
    "                dados.append([entrada[0], entrada[1], distancia_minima, algoritmo, saida.stdout.replace('\\n', '').replace('ns', ''), entrada[2]])"
   ]
  },
  {
   "cell_type": "markdown",
   "metadata": {},
   "source": [
    "Criando um pandas data frame"
   ]
  },
  {
   "cell_type": "code",
   "execution_count": 5,
   "metadata": {},
   "outputs": [],
   "source": [
    "legenda = ['Número de Franquias', 'Número de Lojas por franquia', 'Distância Mínima', 'Algoritmo', 'Tempo de Execução', 'Arquivo de Dados']"
   ]
  },
  {
   "cell_type": "code",
   "execution_count": 6,
   "metadata": {},
   "outputs": [],
   "source": [
    "dados = pandas.DataFrame(dados, columns=legenda)"
   ]
  },
  {
   "cell_type": "code",
   "execution_count": null,
   "metadata": {},
   "outputs": [],
   "source": [
    "dados"
   ]
  },
  {
   "cell_type": "markdown",
   "metadata": {},
   "source": [
    "Exportando dados"
   ]
  },
  {
   "cell_type": "code",
   "execution_count": 8,
   "metadata": {},
   "outputs": [],
   "source": [
    "dados.to_csv('dados.csv', index=False)"
   ]
  }
 ],
 "metadata": {
  "kernelspec": {
   "display_name": "venv",
   "language": "python",
   "name": "python3"
  },
  "language_info": {
   "codemirror_mode": {
    "name": "ipython",
    "version": 3
   },
   "file_extension": ".py",
   "mimetype": "text/x-python",
   "name": "python",
   "nbconvert_exporter": "python",
   "pygments_lexer": "ipython3",
   "version": "3.12.1"
  }
 },
 "nbformat": 4,
 "nbformat_minor": 2
}
