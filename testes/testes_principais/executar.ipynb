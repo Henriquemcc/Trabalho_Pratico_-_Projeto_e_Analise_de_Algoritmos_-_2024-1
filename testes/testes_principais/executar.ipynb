{
 "cells": [
  {
   "cell_type": "markdown",
   "metadata": {},
   "source": [
    "# Trabalho Prático - Projeto e Análise de Algoritmos"
   ]
  },
  {
   "cell_type": "markdown",
   "metadata": {},
   "source": [
    "## Executando o programa"
   ]
  },
  {
   "cell_type": "markdown",
   "metadata": {},
   "source": [
    "Instalando requisitos"
   ]
  },
  {
   "cell_type": "code",
   "execution_count": 1,
   "metadata": {},
   "outputs": [
    {
     "name": "stdout",
     "output_type": "stream",
     "text": [
      "Defaulting to user installation because normal site-packages is not writeable\n",
      "Requirement already satisfied: pandas in /home/henrique/.local/lib/python3.12/site-packages (2.2.2)\n",
      "Requirement already satisfied: numpy>=1.26.0 in /home/henrique/.local/lib/python3.12/site-packages (from pandas) (1.26.4)\n",
      "Requirement already satisfied: python-dateutil>=2.8.2 in /home/henrique/.local/lib/python3.12/site-packages (from pandas) (2.9.0.post0)\n",
      "Requirement already satisfied: pytz>=2020.1 in /home/henrique/.local/lib/python3.12/site-packages (from pandas) (2024.1)\n",
      "Requirement already satisfied: tzdata>=2022.7 in /home/henrique/.local/lib/python3.12/site-packages (from pandas) (2024.1)\n",
      "Requirement already satisfied: six>=1.5 in /home/henrique/.local/lib/python3.12/site-packages (from python-dateutil>=2.8.2->pandas) (1.16.0)\n",
      "Note: you may need to restart the kernel to use updated packages.\n"
     ]
    }
   ],
   "source": [
    "%pip install pandas"
   ]
  },
  {
   "cell_type": "markdown",
   "metadata": {},
   "source": [
    "Importando requisitos"
   ]
  },
  {
   "cell_type": "code",
   "execution_count": 2,
   "metadata": {},
   "outputs": [],
   "source": [
    "import subprocess\n",
    "import pandas"
   ]
  },
  {
   "cell_type": "markdown",
   "metadata": {},
   "source": [
    "Definindo variáveis"
   ]
  },
  {
   "cell_type": "code",
   "execution_count": 6,
   "metadata": {},
   "outputs": [],
   "source": [
    "algoritmos=['forca-bruta', 'branch-and-bound']\n",
    "entradas = []\n",
    "numero_franquias = 2\n",
    "for numero_cidades in range(4, 21):\n",
    "    entradas.append((numero_franquias, numero_cidades, '{:02}_cidades.txt'.format(numero_cidades)))\n",
    "distancia_minima = 1"
   ]
  },
  {
   "cell_type": "code",
   "execution_count": 8,
   "metadata": {},
   "outputs": [
    {
     "data": {
      "text/plain": [
       "[(2, 4, '04_cidades.txt'),\n",
       " (2, 5, '05_cidades.txt'),\n",
       " (2, 6, '06_cidades.txt'),\n",
       " (2, 7, '07_cidades.txt'),\n",
       " (2, 8, '08_cidades.txt'),\n",
       " (2, 9, '09_cidades.txt'),\n",
       " (2, 10, '10_cidades.txt'),\n",
       " (2, 11, '11_cidades.txt'),\n",
       " (2, 12, '12_cidades.txt'),\n",
       " (2, 13, '13_cidades.txt'),\n",
       " (2, 14, '14_cidades.txt'),\n",
       " (2, 15, '15_cidades.txt'),\n",
       " (2, 16, '16_cidades.txt'),\n",
       " (2, 17, '17_cidades.txt'),\n",
       " (2, 18, '18_cidades.txt'),\n",
       " (2, 19, '19_cidades.txt'),\n",
       " (2, 20, '20_cidades.txt')]"
      ]
     },
     "execution_count": 8,
     "metadata": {},
     "output_type": "execute_result"
    }
   ],
   "source": [
    "entradas"
   ]
  },
  {
   "cell_type": "markdown",
   "metadata": {},
   "source": [
    "Executando o programa e salvando a saida"
   ]
  },
  {
   "cell_type": "code",
   "execution_count": 9,
   "metadata": {},
   "outputs": [],
   "source": [
    "dados = []\n",
    "for _ in range(10):\n",
    "    for entrada in entradas:\n",
    "        for algoritmo in algoritmos:\n",
    "            saida = subprocess.run(['java -jar app.jar --calcular-tempo --arquivo-dados {} --distancia-minima {} --algoritmo {}'.format(entrada[2], distancia_minima, algoritmo)], shell=True, capture_output=True, text=True)\n",
    "            algoritmo = 'Força Bruta' if algoritmo == 'forca-bruta' else 'Branch and Bound'\n",
    "            dados.append([entrada[0], entrada[1], distancia_minima, algoritmo, saida.stdout.replace('\\n', '').replace('ns', ''), entrada[2]])"
   ]
  },
  {
   "cell_type": "markdown",
   "metadata": {},
   "source": [
    "Criando um pandas data frame"
   ]
  },
  {
   "cell_type": "code",
   "execution_count": 10,
   "metadata": {},
   "outputs": [],
   "source": [
    "legenda = ['Número de Franquias', 'Número de Cidades', 'Distância Mínima', 'Algoritmo', 'Tempo de Execução', 'Arquivo de Dados']"
   ]
  },
  {
   "cell_type": "code",
   "execution_count": 11,
   "metadata": {},
   "outputs": [],
   "source": [
    "dados = pandas.DataFrame(dados, columns=legenda)"
   ]
  },
  {
   "cell_type": "code",
   "execution_count": 12,
   "metadata": {},
   "outputs": [
    {
     "data": {
      "text/html": [
       "<div>\n",
       "<style scoped>\n",
       "    .dataframe tbody tr th:only-of-type {\n",
       "        vertical-align: middle;\n",
       "    }\n",
       "\n",
       "    .dataframe tbody tr th {\n",
       "        vertical-align: top;\n",
       "    }\n",
       "\n",
       "    .dataframe thead th {\n",
       "        text-align: right;\n",
       "    }\n",
       "</style>\n",
       "<table border=\"1\" class=\"dataframe\">\n",
       "  <thead>\n",
       "    <tr style=\"text-align: right;\">\n",
       "      <th></th>\n",
       "      <th>Número de Franquias</th>\n",
       "      <th>Número de Cidades</th>\n",
       "      <th>Distância Mínima</th>\n",
       "      <th>Algoritmo</th>\n",
       "      <th>Tempo de Execução</th>\n",
       "      <th>Arquivo de Dados</th>\n",
       "    </tr>\n",
       "  </thead>\n",
       "  <tbody>\n",
       "    <tr>\n",
       "      <th>0</th>\n",
       "      <td>2</td>\n",
       "      <td>4</td>\n",
       "      <td>1</td>\n",
       "      <td>Força Bruta</td>\n",
       "      <td>761382</td>\n",
       "      <td>04_cidades.txt</td>\n",
       "    </tr>\n",
       "    <tr>\n",
       "      <th>1</th>\n",
       "      <td>2</td>\n",
       "      <td>4</td>\n",
       "      <td>1</td>\n",
       "      <td>Branch and Bound</td>\n",
       "      <td>696023</td>\n",
       "      <td>04_cidades.txt</td>\n",
       "    </tr>\n",
       "    <tr>\n",
       "      <th>2</th>\n",
       "      <td>2</td>\n",
       "      <td>5</td>\n",
       "      <td>1</td>\n",
       "      <td>Força Bruta</td>\n",
       "      <td>826453</td>\n",
       "      <td>05_cidades.txt</td>\n",
       "    </tr>\n",
       "    <tr>\n",
       "      <th>3</th>\n",
       "      <td>2</td>\n",
       "      <td>5</td>\n",
       "      <td>1</td>\n",
       "      <td>Branch and Bound</td>\n",
       "      <td>713092</td>\n",
       "      <td>05_cidades.txt</td>\n",
       "    </tr>\n",
       "    <tr>\n",
       "      <th>4</th>\n",
       "      <td>2</td>\n",
       "      <td>6</td>\n",
       "      <td>1</td>\n",
       "      <td>Força Bruta</td>\n",
       "      <td>886535</td>\n",
       "      <td>06_cidades.txt</td>\n",
       "    </tr>\n",
       "    <tr>\n",
       "      <th>...</th>\n",
       "      <td>...</td>\n",
       "      <td>...</td>\n",
       "      <td>...</td>\n",
       "      <td>...</td>\n",
       "      <td>...</td>\n",
       "      <td>...</td>\n",
       "    </tr>\n",
       "    <tr>\n",
       "      <th>335</th>\n",
       "      <td>2</td>\n",
       "      <td>18</td>\n",
       "      <td>1</td>\n",
       "      <td>Branch and Bound</td>\n",
       "      <td>1548115</td>\n",
       "      <td>18_cidades.txt</td>\n",
       "    </tr>\n",
       "    <tr>\n",
       "      <th>336</th>\n",
       "      <td>2</td>\n",
       "      <td>19</td>\n",
       "      <td>1</td>\n",
       "      <td>Força Bruta</td>\n",
       "      <td>1386600</td>\n",
       "      <td>19_cidades.txt</td>\n",
       "    </tr>\n",
       "    <tr>\n",
       "      <th>337</th>\n",
       "      <td>2</td>\n",
       "      <td>19</td>\n",
       "      <td>1</td>\n",
       "      <td>Branch and Bound</td>\n",
       "      <td>1547904</td>\n",
       "      <td>19_cidades.txt</td>\n",
       "    </tr>\n",
       "    <tr>\n",
       "      <th>338</th>\n",
       "      <td>2</td>\n",
       "      <td>20</td>\n",
       "      <td>1</td>\n",
       "      <td>Força Bruta</td>\n",
       "      <td>1965937</td>\n",
       "      <td>20_cidades.txt</td>\n",
       "    </tr>\n",
       "    <tr>\n",
       "      <th>339</th>\n",
       "      <td>2</td>\n",
       "      <td>20</td>\n",
       "      <td>1</td>\n",
       "      <td>Branch and Bound</td>\n",
       "      <td>1637803</td>\n",
       "      <td>20_cidades.txt</td>\n",
       "    </tr>\n",
       "  </tbody>\n",
       "</table>\n",
       "<p>340 rows × 6 columns</p>\n",
       "</div>"
      ],
      "text/plain": [
       "     Número de Franquias  Número de Cidades  Distância Mínima  \\\n",
       "0                      2                  4                 1   \n",
       "1                      2                  4                 1   \n",
       "2                      2                  5                 1   \n",
       "3                      2                  5                 1   \n",
       "4                      2                  6                 1   \n",
       "..                   ...                ...               ...   \n",
       "335                    2                 18                 1   \n",
       "336                    2                 19                 1   \n",
       "337                    2                 19                 1   \n",
       "338                    2                 20                 1   \n",
       "339                    2                 20                 1   \n",
       "\n",
       "            Algoritmo Tempo de Execução Arquivo de Dados  \n",
       "0         Força Bruta            761382   04_cidades.txt  \n",
       "1    Branch and Bound            696023   04_cidades.txt  \n",
       "2         Força Bruta            826453   05_cidades.txt  \n",
       "3    Branch and Bound            713092   05_cidades.txt  \n",
       "4         Força Bruta            886535   06_cidades.txt  \n",
       "..                ...               ...              ...  \n",
       "335  Branch and Bound           1548115   18_cidades.txt  \n",
       "336       Força Bruta           1386600   19_cidades.txt  \n",
       "337  Branch and Bound           1547904   19_cidades.txt  \n",
       "338       Força Bruta           1965937   20_cidades.txt  \n",
       "339  Branch and Bound           1637803   20_cidades.txt  \n",
       "\n",
       "[340 rows x 6 columns]"
      ]
     },
     "execution_count": 12,
     "metadata": {},
     "output_type": "execute_result"
    }
   ],
   "source": [
    "dados"
   ]
  },
  {
   "cell_type": "markdown",
   "metadata": {},
   "source": [
    "Exportando dados"
   ]
  },
  {
   "cell_type": "code",
   "execution_count": 13,
   "metadata": {},
   "outputs": [],
   "source": [
    "dados.to_csv('dados.csv', index=False)"
   ]
  },
  {
   "cell_type": "code",
   "execution_count": null,
   "metadata": {},
   "outputs": [],
   "source": []
  }
 ],
 "metadata": {
  "kernelspec": {
   "display_name": "venv",
   "language": "python",
   "name": "python3"
  },
  "language_info": {
   "codemirror_mode": {
    "name": "ipython",
    "version": 3
   },
   "file_extension": ".py",
   "mimetype": "text/x-python",
   "name": "python",
   "nbconvert_exporter": "python",
   "pygments_lexer": "ipython3",
   "version": "3.12.1"
  }
 },
 "nbformat": 4,
 "nbformat_minor": 2
}
