{
 "cells": [
  {
   "cell_type": "markdown",
   "metadata": {},
   "source": [
    "# Trabalho Prático - Projeto e Análise de Algoritmos"
   ]
  },
  {
   "cell_type": "markdown",
   "metadata": {},
   "source": [
    "## Executando o programa"
   ]
  },
  {
   "cell_type": "markdown",
   "metadata": {},
   "source": [
    "Instalando requisitos"
   ]
  },
  {
   "cell_type": "code",
   "execution_count": 31,
   "metadata": {},
   "outputs": [
    {
     "name": "stdout",
     "output_type": "stream",
     "text": [
      "Defaulting to user installation because normal site-packages is not writeable\n",
      "Requirement already satisfied: pandas in /home/henrique/.local/lib/python3.12/site-packages (2.2.2)\n",
      "Requirement already satisfied: numpy>=1.26.0 in /home/henrique/.local/lib/python3.12/site-packages (from pandas) (1.26.4)\n",
      "Requirement already satisfied: python-dateutil>=2.8.2 in /home/henrique/.local/lib/python3.12/site-packages (from pandas) (2.9.0.post0)\n",
      "Requirement already satisfied: pytz>=2020.1 in /home/henrique/.local/lib/python3.12/site-packages (from pandas) (2024.1)\n",
      "Requirement already satisfied: tzdata>=2022.7 in /home/henrique/.local/lib/python3.12/site-packages (from pandas) (2024.1)\n",
      "Requirement already satisfied: six>=1.5 in /home/henrique/.local/lib/python3.12/site-packages (from python-dateutil>=2.8.2->pandas) (1.16.0)\n",
      "Note: you may need to restart the kernel to use updated packages.\n"
     ]
    }
   ],
   "source": [
    "%pip install pandas"
   ]
  },
  {
   "cell_type": "markdown",
   "metadata": {},
   "source": [
    "Importando requisitos"
   ]
  },
  {
   "cell_type": "code",
   "execution_count": 32,
   "metadata": {},
   "outputs": [],
   "source": [
    "import subprocess\n",
    "import pandas\n",
    "import datetime"
   ]
  },
  {
   "cell_type": "markdown",
   "metadata": {},
   "source": [
    "Definindo variáveis"
   ]
  },
  {
   "cell_type": "code",
   "execution_count": 33,
   "metadata": {},
   "outputs": [],
   "source": [
    "versao = \"v0.0.4\"\n",
    "algoritmos=['forca-bruta', 'branch-and-bound']\n",
    "distancias_minimas = [1, 2, 4, 8, 16, 32, 64, 128, 256, 512]\n",
    "entradas = []\n",
    "numero_franquias = 2\n",
    "for numero_cidades in range(4, 21):\n",
    "    entradas.append((numero_franquias, numero_cidades, '{:02}_cidades.txt'.format(numero_cidades)))"
   ]
  },
  {
   "cell_type": "code",
   "execution_count": 34,
   "metadata": {},
   "outputs": [
    {
     "data": {
      "text/plain": [
       "[(2, 4, '04_cidades.txt'),\n",
       " (2, 5, '05_cidades.txt'),\n",
       " (2, 6, '06_cidades.txt'),\n",
       " (2, 7, '07_cidades.txt'),\n",
       " (2, 8, '08_cidades.txt'),\n",
       " (2, 9, '09_cidades.txt'),\n",
       " (2, 10, '10_cidades.txt'),\n",
       " (2, 11, '11_cidades.txt'),\n",
       " (2, 12, '12_cidades.txt'),\n",
       " (2, 13, '13_cidades.txt'),\n",
       " (2, 14, '14_cidades.txt'),\n",
       " (2, 15, '15_cidades.txt'),\n",
       " (2, 16, '16_cidades.txt'),\n",
       " (2, 17, '17_cidades.txt'),\n",
       " (2, 18, '18_cidades.txt'),\n",
       " (2, 19, '19_cidades.txt'),\n",
       " (2, 20, '20_cidades.txt')]"
      ]
     },
     "execution_count": 34,
     "metadata": {},
     "output_type": "execute_result"
    }
   ],
   "source": [
    "entradas"
   ]
  },
  {
   "cell_type": "markdown",
   "metadata": {},
   "source": [
    "Executando o programa e salvando a saida"
   ]
  },
  {
   "cell_type": "code",
   "execution_count": 35,
   "metadata": {},
   "outputs": [],
   "source": [
    "legenda = ['Número de Franquias', 'Número de Cidades', 'Distância Mínima', 'Algoritmo', 'Tempo de Execução', 'Arquivo de Dados']"
   ]
  },
  {
   "cell_type": "code",
   "execution_count": 36,
   "metadata": {},
   "outputs": [],
   "source": [
    "indice = 0\n",
    "dados = []\n",
    "for distancia_minima in distancias_minimas:\n",
    "    for entrada in entradas:\n",
    "        for _ in range(10):\n",
    "            for algoritmo in algoritmos:\n",
    "                saida = subprocess.run(['java -jar app_{}.jar --calcular-tempo --arquivo-dados {} --distancia-minima {} --algoritmo {}'.format(versao, entrada[2], distancia_minima, algoritmo)], shell=True, capture_output=True, text=True)\n",
    "                algoritmo = 'Força Bruta' if algoritmo == 'forca-bruta' else 'Branch and Bound'\n",
    "                dados.append([entrada[0], entrada[1], distancia_minima, algoritmo, saida.stdout.replace('\\n', '').replace('ns', ''), entrada[2]])\n",
    "                # Criando um pandas data frame\n",
    "                dados_df = pandas.DataFrame(dados, columns=legenda)\n",
    "                timestamp = datetime.datetime.now().strftime('%Y%m%d%H%M%S')\n",
    "                dados_df.to_csv('dados_{}_{}_{}.csv'.format(versao, indice, timestamp), index=False)\n",
    "                indice += 1"
   ]
  },
  {
   "cell_type": "code",
   "execution_count": null,
   "metadata": {},
   "outputs": [],
   "source": []
  }
 ],
 "metadata": {
  "kernelspec": {
   "display_name": "venv",
   "language": "python",
   "name": "python3"
  },
  "language_info": {
   "codemirror_mode": {
    "name": "ipython",
    "version": 3
   },
   "file_extension": ".py",
   "mimetype": "text/x-python",
   "name": "python",
   "nbconvert_exporter": "python",
   "pygments_lexer": "ipython3",
   "version": "3.12.1"
  }
 },
 "nbformat": 4,
 "nbformat_minor": 2
}
