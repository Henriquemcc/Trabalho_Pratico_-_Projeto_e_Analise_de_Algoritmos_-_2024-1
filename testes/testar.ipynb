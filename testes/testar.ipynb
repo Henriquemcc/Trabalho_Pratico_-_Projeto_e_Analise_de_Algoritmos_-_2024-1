{
 "cells": [
  {
   "cell_type": "markdown",
   "metadata": {},
   "source": [
    "# Trabalho Prático - Projeto e Análise de Algoritmos"
   ]
  },
  {
   "cell_type": "markdown",
   "metadata": {},
   "source": [
    "## Testes"
   ]
  },
  {
   "cell_type": "markdown",
   "metadata": {},
   "source": [
    "Instalando requisitos"
   ]
  },
  {
   "cell_type": "code",
   "execution_count": 1,
   "metadata": {},
   "outputs": [
    {
     "name": "stdout",
     "output_type": "stream",
     "text": [
      "Requirement already satisfied: pandas in ./venv/lib64/python3.12/site-packages (2.2.2)\n",
      "Requirement already satisfied: numpy>=1.26.0 in ./venv/lib64/python3.12/site-packages (from pandas) (1.26.4)\n",
      "Requirement already satisfied: python-dateutil>=2.8.2 in ./venv/lib64/python3.12/site-packages (from pandas) (2.9.0.post0)\n",
      "Requirement already satisfied: pytz>=2020.1 in ./venv/lib64/python3.12/site-packages (from pandas) (2024.1)\n",
      "Requirement already satisfied: tzdata>=2022.7 in ./venv/lib64/python3.12/site-packages (from pandas) (2024.1)\n",
      "Requirement already satisfied: six>=1.5 in ./venv/lib64/python3.12/site-packages (from python-dateutil>=2.8.2->pandas) (1.16.0)\n",
      "\n",
      "\u001b[1m[\u001b[0m\u001b[34;49mnotice\u001b[0m\u001b[1;39;49m]\u001b[0m\u001b[39;49m A new release of pip is available: \u001b[0m\u001b[31;49m23.2.1\u001b[0m\u001b[39;49m -> \u001b[0m\u001b[32;49m24.0\u001b[0m\n",
      "\u001b[1m[\u001b[0m\u001b[34;49mnotice\u001b[0m\u001b[1;39;49m]\u001b[0m\u001b[39;49m To update, run: \u001b[0m\u001b[32;49mpip install --upgrade pip\u001b[0m\n",
      "Note: you may need to restart the kernel to use updated packages.\n",
      "Requirement already satisfied: matplotlib in ./venv/lib64/python3.12/site-packages (3.9.0)\n",
      "Requirement already satisfied: contourpy>=1.0.1 in ./venv/lib64/python3.12/site-packages (from matplotlib) (1.2.1)\n",
      "Requirement already satisfied: cycler>=0.10 in ./venv/lib64/python3.12/site-packages (from matplotlib) (0.12.1)\n",
      "Requirement already satisfied: fonttools>=4.22.0 in ./venv/lib64/python3.12/site-packages (from matplotlib) (4.53.0)\n",
      "Requirement already satisfied: kiwisolver>=1.3.1 in ./venv/lib64/python3.12/site-packages (from matplotlib) (1.4.5)\n",
      "Requirement already satisfied: numpy>=1.23 in ./venv/lib64/python3.12/site-packages (from matplotlib) (1.26.4)\n",
      "Requirement already satisfied: packaging>=20.0 in ./venv/lib64/python3.12/site-packages (from matplotlib) (24.0)\n",
      "Requirement already satisfied: pillow>=8 in ./venv/lib64/python3.12/site-packages (from matplotlib) (10.3.0)\n",
      "Requirement already satisfied: pyparsing>=2.3.1 in ./venv/lib64/python3.12/site-packages (from matplotlib) (3.1.2)\n",
      "Requirement already satisfied: python-dateutil>=2.7 in ./venv/lib64/python3.12/site-packages (from matplotlib) (2.9.0.post0)\n",
      "Requirement already satisfied: six>=1.5 in ./venv/lib64/python3.12/site-packages (from python-dateutil>=2.7->matplotlib) (1.16.0)\n",
      "\n",
      "\u001b[1m[\u001b[0m\u001b[34;49mnotice\u001b[0m\u001b[1;39;49m]\u001b[0m\u001b[39;49m A new release of pip is available: \u001b[0m\u001b[31;49m23.2.1\u001b[0m\u001b[39;49m -> \u001b[0m\u001b[32;49m24.0\u001b[0m\n",
      "\u001b[1m[\u001b[0m\u001b[34;49mnotice\u001b[0m\u001b[1;39;49m]\u001b[0m\u001b[39;49m To update, run: \u001b[0m\u001b[32;49mpip install --upgrade pip\u001b[0m\n",
      "Note: you may need to restart the kernel to use updated packages.\n",
      "Requirement already satisfied: seaborn in ./venv/lib64/python3.12/site-packages (0.13.2)\n",
      "Requirement already satisfied: numpy!=1.24.0,>=1.20 in ./venv/lib64/python3.12/site-packages (from seaborn) (1.26.4)\n",
      "Requirement already satisfied: pandas>=1.2 in ./venv/lib64/python3.12/site-packages (from seaborn) (2.2.2)\n",
      "Requirement already satisfied: matplotlib!=3.6.1,>=3.4 in ./venv/lib64/python3.12/site-packages (from seaborn) (3.9.0)\n",
      "Requirement already satisfied: contourpy>=1.0.1 in ./venv/lib64/python3.12/site-packages (from matplotlib!=3.6.1,>=3.4->seaborn) (1.2.1)\n",
      "Requirement already satisfied: cycler>=0.10 in ./venv/lib64/python3.12/site-packages (from matplotlib!=3.6.1,>=3.4->seaborn) (0.12.1)\n",
      "Requirement already satisfied: fonttools>=4.22.0 in ./venv/lib64/python3.12/site-packages (from matplotlib!=3.6.1,>=3.4->seaborn) (4.53.0)\n",
      "Requirement already satisfied: kiwisolver>=1.3.1 in ./venv/lib64/python3.12/site-packages (from matplotlib!=3.6.1,>=3.4->seaborn) (1.4.5)\n",
      "Requirement already satisfied: packaging>=20.0 in ./venv/lib64/python3.12/site-packages (from matplotlib!=3.6.1,>=3.4->seaborn) (24.0)\n",
      "Requirement already satisfied: pillow>=8 in ./venv/lib64/python3.12/site-packages (from matplotlib!=3.6.1,>=3.4->seaborn) (10.3.0)\n",
      "Requirement already satisfied: pyparsing>=2.3.1 in ./venv/lib64/python3.12/site-packages (from matplotlib!=3.6.1,>=3.4->seaborn) (3.1.2)\n",
      "Requirement already satisfied: python-dateutil>=2.7 in ./venv/lib64/python3.12/site-packages (from matplotlib!=3.6.1,>=3.4->seaborn) (2.9.0.post0)\n",
      "Requirement already satisfied: pytz>=2020.1 in ./venv/lib64/python3.12/site-packages (from pandas>=1.2->seaborn) (2024.1)\n",
      "Requirement already satisfied: tzdata>=2022.7 in ./venv/lib64/python3.12/site-packages (from pandas>=1.2->seaborn) (2024.1)\n",
      "Requirement already satisfied: six>=1.5 in ./venv/lib64/python3.12/site-packages (from python-dateutil>=2.7->matplotlib!=3.6.1,>=3.4->seaborn) (1.16.0)\n",
      "\n",
      "\u001b[1m[\u001b[0m\u001b[34;49mnotice\u001b[0m\u001b[1;39;49m]\u001b[0m\u001b[39;49m A new release of pip is available: \u001b[0m\u001b[31;49m23.2.1\u001b[0m\u001b[39;49m -> \u001b[0m\u001b[32;49m24.0\u001b[0m\n",
      "\u001b[1m[\u001b[0m\u001b[34;49mnotice\u001b[0m\u001b[1;39;49m]\u001b[0m\u001b[39;49m To update, run: \u001b[0m\u001b[32;49mpip install --upgrade pip\u001b[0m\n",
      "Note: you may need to restart the kernel to use updated packages.\n"
     ]
    }
   ],
   "source": [
    "%pip install pandas\n",
    "%pip install matplotlib\n",
    "%pip install seaborn"
   ]
  },
  {
   "cell_type": "code",
   "execution_count": 2,
   "metadata": {},
   "outputs": [],
   "source": [
    "import subprocess\n",
    "import pandas\n",
    "import numpy\n",
    "import matplotlib\n",
    "import matplotlib.pyplot\n",
    "import seaborn"
   ]
  },
  {
   "cell_type": "markdown",
   "metadata": {},
   "source": [
    "Definindo variáveis"
   ]
  },
  {
   "cell_type": "code",
   "execution_count": 3,
   "metadata": {},
   "outputs": [],
   "source": [
    "distancias_minimas=[0, 1, 2, 4, 8, 16, 32, 64, 128, 256, 512, 1024]\n",
    "algoritmos=['forca-bruta', 'branch-and-bound']\n",
    "entradas = [[2, 2, '2_franquias_2_lojas.txt'], [2, 5, '2_franquias_5_lojas.txt'], [3, 3, '3_franquias_3_lojas.txt'], [5, 2, '5_franquias_2_lojas.txt'], [_, _, 'exemplo_professor.txt']]"
   ]
  },
  {
   "cell_type": "markdown",
   "metadata": {},
   "source": [
    "Executando o programa e salvando a saida"
   ]
  },
  {
   "cell_type": "code",
   "execution_count": 4,
   "metadata": {},
   "outputs": [],
   "source": [
    "dados = []\n",
    "for _ in range(3):\n",
    "    for entrada in entradas:\n",
    "        for distancia_minima in distancias_minimas:\n",
    "            for algoritmo in algoritmos:\n",
    "                saida = subprocess.run(['java -jar app.jar --calcular-tempo --arquivo-dados {} --distancia-minima {} --algoritmo {}'.format(entrada[2], distancia_minima, algoritmo)], shell=True, capture_output=True, text=True)\n",
    "                algoritmo = 'Força Bruta' if algoritmo == 'forca-bruta' else 'Branch and Bound'\n",
    "                dados.append([entrada[0], entrada[1], distancia_minima, algoritmo, saida.stdout.replace('\\n', '').replace('ns', ''), entrada[2]])"
   ]
  },
  {
   "cell_type": "markdown",
   "metadata": {},
   "source": [
    "Criando um pandas data frame"
   ]
  },
  {
   "cell_type": "code",
   "execution_count": 5,
   "metadata": {},
   "outputs": [],
   "source": [
    "legenda = ['Número de Franquias', 'Número de Lojas por franquia', 'Distância Mínima', 'Algoritmo', 'Tempo de Execução', 'Arquivo de Dados']"
   ]
  },
  {
   "cell_type": "code",
   "execution_count": 6,
   "metadata": {},
   "outputs": [],
   "source": [
    "dados = pandas.DataFrame(dados, columns=legenda)"
   ]
  },
  {
   "cell_type": "code",
   "execution_count": 7,
   "metadata": {},
   "outputs": [
    {
     "data": {
      "text/html": [
       "<div>\n",
       "<style scoped>\n",
       "    .dataframe tbody tr th:only-of-type {\n",
       "        vertical-align: middle;\n",
       "    }\n",
       "\n",
       "    .dataframe tbody tr th {\n",
       "        vertical-align: top;\n",
       "    }\n",
       "\n",
       "    .dataframe thead th {\n",
       "        text-align: right;\n",
       "    }\n",
       "</style>\n",
       "<table border=\"1\" class=\"dataframe\">\n",
       "  <thead>\n",
       "    <tr style=\"text-align: right;\">\n",
       "      <th></th>\n",
       "      <th>Número de Franquias</th>\n",
       "      <th>Número de Lojas por franquia</th>\n",
       "      <th>Distância Mínima</th>\n",
       "      <th>Algoritmo</th>\n",
       "      <th>Tempo de Execução</th>\n",
       "      <th>Arquivo de Dados</th>\n",
       "    </tr>\n",
       "  </thead>\n",
       "  <tbody>\n",
       "    <tr>\n",
       "      <th>0</th>\n",
       "      <td>2</td>\n",
       "      <td>2</td>\n",
       "      <td>0</td>\n",
       "      <td>Força Bruta</td>\n",
       "      <td>685530</td>\n",
       "      <td>2_franquias_2_lojas.txt</td>\n",
       "    </tr>\n",
       "    <tr>\n",
       "      <th>1</th>\n",
       "      <td>2</td>\n",
       "      <td>2</td>\n",
       "      <td>0</td>\n",
       "      <td>Branch and Bound</td>\n",
       "      <td>575672</td>\n",
       "      <td>2_franquias_2_lojas.txt</td>\n",
       "    </tr>\n",
       "    <tr>\n",
       "      <th>2</th>\n",
       "      <td>2</td>\n",
       "      <td>2</td>\n",
       "      <td>1</td>\n",
       "      <td>Força Bruta</td>\n",
       "      <td>633800</td>\n",
       "      <td>2_franquias_2_lojas.txt</td>\n",
       "    </tr>\n",
       "    <tr>\n",
       "      <th>3</th>\n",
       "      <td>2</td>\n",
       "      <td>2</td>\n",
       "      <td>1</td>\n",
       "      <td>Branch and Bound</td>\n",
       "      <td>564724</td>\n",
       "      <td>2_franquias_2_lojas.txt</td>\n",
       "    </tr>\n",
       "    <tr>\n",
       "      <th>4</th>\n",
       "      <td>2</td>\n",
       "      <td>2</td>\n",
       "      <td>2</td>\n",
       "      <td>Força Bruta</td>\n",
       "      <td>625080</td>\n",
       "      <td>2_franquias_2_lojas.txt</td>\n",
       "    </tr>\n",
       "    <tr>\n",
       "      <th>...</th>\n",
       "      <td>...</td>\n",
       "      <td>...</td>\n",
       "      <td>...</td>\n",
       "      <td>...</td>\n",
       "      <td>...</td>\n",
       "      <td>...</td>\n",
       "    </tr>\n",
       "    <tr>\n",
       "      <th>355</th>\n",
       "      <td></td>\n",
       "      <td></td>\n",
       "      <td>256</td>\n",
       "      <td>Branch and Bound</td>\n",
       "      <td>11700470</td>\n",
       "      <td>exemplo_professor.txt</td>\n",
       "    </tr>\n",
       "    <tr>\n",
       "      <th>356</th>\n",
       "      <td></td>\n",
       "      <td></td>\n",
       "      <td>512</td>\n",
       "      <td>Força Bruta</td>\n",
       "      <td>870001082</td>\n",
       "      <td>exemplo_professor.txt</td>\n",
       "    </tr>\n",
       "    <tr>\n",
       "      <th>357</th>\n",
       "      <td></td>\n",
       "      <td></td>\n",
       "      <td>512</td>\n",
       "      <td>Branch and Bound</td>\n",
       "      <td>10164135</td>\n",
       "      <td>exemplo_professor.txt</td>\n",
       "    </tr>\n",
       "    <tr>\n",
       "      <th>358</th>\n",
       "      <td></td>\n",
       "      <td></td>\n",
       "      <td>1024</td>\n",
       "      <td>Força Bruta</td>\n",
       "      <td>1011598235</td>\n",
       "      <td>exemplo_professor.txt</td>\n",
       "    </tr>\n",
       "    <tr>\n",
       "      <th>359</th>\n",
       "      <td></td>\n",
       "      <td></td>\n",
       "      <td>1024</td>\n",
       "      <td>Branch and Bound</td>\n",
       "      <td>12484638</td>\n",
       "      <td>exemplo_professor.txt</td>\n",
       "    </tr>\n",
       "  </tbody>\n",
       "</table>\n",
       "<p>360 rows × 6 columns</p>\n",
       "</div>"
      ],
      "text/plain": [
       "    Número de Franquias Número de Lojas por franquia  Distância Mínima  \\\n",
       "0                     2                            2                 0   \n",
       "1                     2                            2                 0   \n",
       "2                     2                            2                 1   \n",
       "3                     2                            2                 1   \n",
       "4                     2                            2                 2   \n",
       "..                  ...                          ...               ...   \n",
       "355                                                                256   \n",
       "356                                                                512   \n",
       "357                                                                512   \n",
       "358                                                               1024   \n",
       "359                                                               1024   \n",
       "\n",
       "            Algoritmo Tempo de Execução         Arquivo de Dados  \n",
       "0         Força Bruta            685530  2_franquias_2_lojas.txt  \n",
       "1    Branch and Bound            575672  2_franquias_2_lojas.txt  \n",
       "2         Força Bruta            633800  2_franquias_2_lojas.txt  \n",
       "3    Branch and Bound            564724  2_franquias_2_lojas.txt  \n",
       "4         Força Bruta            625080  2_franquias_2_lojas.txt  \n",
       "..                ...               ...                      ...  \n",
       "355  Branch and Bound          11700470    exemplo_professor.txt  \n",
       "356       Força Bruta         870001082    exemplo_professor.txt  \n",
       "357  Branch and Bound          10164135    exemplo_professor.txt  \n",
       "358       Força Bruta        1011598235    exemplo_professor.txt  \n",
       "359  Branch and Bound          12484638    exemplo_professor.txt  \n",
       "\n",
       "[360 rows x 6 columns]"
      ]
     },
     "execution_count": 7,
     "metadata": {},
     "output_type": "execute_result"
    }
   ],
   "source": [
    "dados"
   ]
  },
  {
   "cell_type": "markdown",
   "metadata": {},
   "source": [
    "Exportando dados"
   ]
  },
  {
   "cell_type": "code",
   "execution_count": 8,
   "metadata": {},
   "outputs": [],
   "source": [
    "dados.to_csv('dados.csv', index=False)"
   ]
  },
  {
   "cell_type": "code",
   "execution_count": 9,
   "metadata": {},
   "outputs": [
    {
     "data": {
      "text/html": [
       "<div>\n",
       "<style scoped>\n",
       "    .dataframe tbody tr th:only-of-type {\n",
       "        vertical-align: middle;\n",
       "    }\n",
       "\n",
       "    .dataframe tbody tr th {\n",
       "        vertical-align: top;\n",
       "    }\n",
       "\n",
       "    .dataframe thead th {\n",
       "        text-align: right;\n",
       "    }\n",
       "</style>\n",
       "<table border=\"1\" class=\"dataframe\">\n",
       "  <thead>\n",
       "    <tr style=\"text-align: right;\">\n",
       "      <th></th>\n",
       "      <th>Número de Franquias</th>\n",
       "      <th>Número de Lojas por franquia</th>\n",
       "      <th>Distância Mínima</th>\n",
       "      <th>Algoritmo</th>\n",
       "      <th>Tempo de Execução</th>\n",
       "      <th>Arquivo de Dados</th>\n",
       "    </tr>\n",
       "  </thead>\n",
       "  <tbody>\n",
       "    <tr>\n",
       "      <th>0</th>\n",
       "      <td>2</td>\n",
       "      <td>2</td>\n",
       "      <td>0</td>\n",
       "      <td>Força Bruta</td>\n",
       "      <td>685530</td>\n",
       "      <td>2_franquias_2_lojas.txt</td>\n",
       "    </tr>\n",
       "    <tr>\n",
       "      <th>1</th>\n",
       "      <td>2</td>\n",
       "      <td>2</td>\n",
       "      <td>0</td>\n",
       "      <td>Branch and Bound</td>\n",
       "      <td>575672</td>\n",
       "      <td>2_franquias_2_lojas.txt</td>\n",
       "    </tr>\n",
       "    <tr>\n",
       "      <th>2</th>\n",
       "      <td>2</td>\n",
       "      <td>2</td>\n",
       "      <td>1</td>\n",
       "      <td>Força Bruta</td>\n",
       "      <td>633800</td>\n",
       "      <td>2_franquias_2_lojas.txt</td>\n",
       "    </tr>\n",
       "    <tr>\n",
       "      <th>3</th>\n",
       "      <td>2</td>\n",
       "      <td>2</td>\n",
       "      <td>1</td>\n",
       "      <td>Branch and Bound</td>\n",
       "      <td>564724</td>\n",
       "      <td>2_franquias_2_lojas.txt</td>\n",
       "    </tr>\n",
       "    <tr>\n",
       "      <th>4</th>\n",
       "      <td>2</td>\n",
       "      <td>2</td>\n",
       "      <td>2</td>\n",
       "      <td>Força Bruta</td>\n",
       "      <td>625080</td>\n",
       "      <td>2_franquias_2_lojas.txt</td>\n",
       "    </tr>\n",
       "    <tr>\n",
       "      <th>...</th>\n",
       "      <td>...</td>\n",
       "      <td>...</td>\n",
       "      <td>...</td>\n",
       "      <td>...</td>\n",
       "      <td>...</td>\n",
       "      <td>...</td>\n",
       "    </tr>\n",
       "    <tr>\n",
       "      <th>355</th>\n",
       "      <td></td>\n",
       "      <td></td>\n",
       "      <td>256</td>\n",
       "      <td>Branch and Bound</td>\n",
       "      <td>11700470</td>\n",
       "      <td>exemplo_professor.txt</td>\n",
       "    </tr>\n",
       "    <tr>\n",
       "      <th>356</th>\n",
       "      <td></td>\n",
       "      <td></td>\n",
       "      <td>512</td>\n",
       "      <td>Força Bruta</td>\n",
       "      <td>870001082</td>\n",
       "      <td>exemplo_professor.txt</td>\n",
       "    </tr>\n",
       "    <tr>\n",
       "      <th>357</th>\n",
       "      <td></td>\n",
       "      <td></td>\n",
       "      <td>512</td>\n",
       "      <td>Branch and Bound</td>\n",
       "      <td>10164135</td>\n",
       "      <td>exemplo_professor.txt</td>\n",
       "    </tr>\n",
       "    <tr>\n",
       "      <th>358</th>\n",
       "      <td></td>\n",
       "      <td></td>\n",
       "      <td>1024</td>\n",
       "      <td>Força Bruta</td>\n",
       "      <td>1011598235</td>\n",
       "      <td>exemplo_professor.txt</td>\n",
       "    </tr>\n",
       "    <tr>\n",
       "      <th>359</th>\n",
       "      <td></td>\n",
       "      <td></td>\n",
       "      <td>1024</td>\n",
       "      <td>Branch and Bound</td>\n",
       "      <td>12484638</td>\n",
       "      <td>exemplo_professor.txt</td>\n",
       "    </tr>\n",
       "  </tbody>\n",
       "</table>\n",
       "<p>360 rows × 6 columns</p>\n",
       "</div>"
      ],
      "text/plain": [
       "    Número de Franquias Número de Lojas por franquia  Distância Mínima  \\\n",
       "0                     2                            2                 0   \n",
       "1                     2                            2                 0   \n",
       "2                     2                            2                 1   \n",
       "3                     2                            2                 1   \n",
       "4                     2                            2                 2   \n",
       "..                  ...                          ...               ...   \n",
       "355                                                                256   \n",
       "356                                                                512   \n",
       "357                                                                512   \n",
       "358                                                               1024   \n",
       "359                                                               1024   \n",
       "\n",
       "            Algoritmo Tempo de Execução         Arquivo de Dados  \n",
       "0         Força Bruta            685530  2_franquias_2_lojas.txt  \n",
       "1    Branch and Bound            575672  2_franquias_2_lojas.txt  \n",
       "2         Força Bruta            633800  2_franquias_2_lojas.txt  \n",
       "3    Branch and Bound            564724  2_franquias_2_lojas.txt  \n",
       "4         Força Bruta            625080  2_franquias_2_lojas.txt  \n",
       "..                ...               ...                      ...  \n",
       "355  Branch and Bound          11700470    exemplo_professor.txt  \n",
       "356       Força Bruta         870001082    exemplo_professor.txt  \n",
       "357  Branch and Bound          10164135    exemplo_professor.txt  \n",
       "358       Força Bruta        1011598235    exemplo_professor.txt  \n",
       "359  Branch and Bound          12484638    exemplo_professor.txt  \n",
       "\n",
       "[360 rows x 6 columns]"
      ]
     },
     "execution_count": 9,
     "metadata": {},
     "output_type": "execute_result"
    }
   ],
   "source": [
    "dados"
   ]
  },
  {
   "cell_type": "markdown",
   "metadata": {},
   "source": [
    "Gerando gráficos"
   ]
  },
  {
   "cell_type": "code",
   "execution_count": 10,
   "metadata": {},
   "outputs": [
    {
     "data": {
      "text/plain": [
       "{('Força Bruta', 0): 9648636,\n",
       " ('Branch and Bound', 0): 10136008,\n",
       " ('Força Bruta', 1): 10733512,\n",
       " ('Branch and Bound', 1): 10207662,\n",
       " ('Força Bruta', 2): 9586277,\n",
       " ('Branch and Bound', 2): 9738034,\n",
       " ('Força Bruta', 4): 9888611,\n",
       " ('Branch and Bound', 4): 10263998,\n",
       " ('Força Bruta', 8): 9482701,\n",
       " ('Branch and Bound', 8): 10532814,\n",
       " ('Força Bruta', 16): 10084565,\n",
       " ('Branch and Bound', 16): 11422941,\n",
       " ('Força Bruta', 32): 12720598,\n",
       " ('Branch and Bound', 32): 44241871,\n",
       " ('Força Bruta', 64): 35909672,\n",
       " ('Branch and Bound', 64): 44152553,\n",
       " ('Força Bruta', 128): 347198021,\n",
       " ('Branch and Bound', 128): 64852283,\n",
       " ('Força Bruta', 256): 1593891291,\n",
       " ('Branch and Bound', 256): 113098660,\n",
       " ('Força Bruta', 512): 3741436675,\n",
       " ('Branch and Bound', 512): 113518157,\n",
       " ('Força Bruta', 1024): 7196060182,\n",
       " ('Branch and Bound', 1024): 122238402}"
      ]
     },
     "execution_count": 10,
     "metadata": {},
     "output_type": "execute_result"
    }
   ],
   "source": [
    "dados_media = {}\n",
    "for index, row in dados.iterrows():\n",
    "    if not (row['Algoritmo'], row['Distância Mínima']) in dados_media:\n",
    "        dados_media.setdefault((row['Algoritmo'], row['Distância Mínima']), 0)\n",
    "    else:\n",
    "        dados_media[(row['Algoritmo'], row['Distância Mínima'])] += int(row['Tempo de Execução'])\n",
    "\n",
    "dados_media"
   ]
  },
  {
   "cell_type": "code",
   "execution_count": 11,
   "metadata": {},
   "outputs": [],
   "source": [
    "dados_grafico = {\n",
    "    'Algoritmo': [],\n",
    "    'Distância Mínima': [],\n",
    "    'Tempo de Execução': []\n",
    "}\n",
    "\n",
    "for key, value in dados_media.items():\n",
    "    algoritmo, distancia_minima = key\n",
    "    tempo_execucao = value / 3\n",
    "    dados_grafico['Algoritmo'].append(algoritmo)\n",
    "    dados_grafico['Distância Mínima'].append(distancia_minima)\n",
    "    dados_grafico['Tempo de Execução'].append(tempo_execucao)\n",
    "    "
   ]
  },
  {
   "cell_type": "code",
   "execution_count": 12,
   "metadata": {},
   "outputs": [
    {
     "data": {
      "image/png": "[encoded data removed]",
      "text/plain": [
       "<Figure size 640x480 with 1 Axes>"
      ]
     },
     "metadata": {},
     "output_type": "display_data"
    }
   ],
   "source": [
    "matplotlib.pyplot.figure()\n",
    "seaborn.lineplot(x=\"Distância Mínima\", y=\"Tempo de Execução\", hue=\"Algoritmo\", data=dados_grafico, style='Algoritmo', dashes=False)\n",
    "matplotlib.pyplot.title('Tempo de Execução por Distância Mínima')\n",
    "matplotlib.pyplot.xlabel('Distância Mínima')\n",
    "matplotlib.pyplot.ylabel('Tempo de Execução')\n",
    "matplotlib.pyplot.legend(title='Algoritmo')\n",
    "\n",
    "matplotlib.pyplot.show()"
   ]
  },
  {
   "cell_type": "code",
   "execution_count": 13,
   "metadata": {},
   "outputs": [],
   "source": [
    "media_algoritmos = {\n",
    "    'Força Bruta': 0,\n",
    "    'Branch and Bound': 0\n",
    "}\n",
    "\n",
    "for index, row in dados.iterrows():\n",
    "    if row['Algoritmo'] == 'Força Bruta':\n",
    "        media_algoritmos['Força Bruta'] += (int(row['Tempo de Execução']))\n",
    "    else:\n",
    "        media_algoritmos['Branch and Bound'] += (int(row['Tempo de Execução']))\n",
    "\n",
    "media_algoritmos['Força Bruta'] = media_algoritmos['Força Bruta'] / 3\n",
    "media_algoritmos['Branch and Bound'] = media_algoritmos['Branch and Bound'] / 3"
   ]
  },
  {
   "cell_type": "code",
   "execution_count": 14,
   "metadata": {},
   "outputs": [
    {
     "data": {
      "text/plain": [
       "{'Força Bruta': 4331641796.333333, 'Branch and Bound': 191367028.33333334}"
      ]
     },
     "execution_count": 14,
     "metadata": {},
     "output_type": "execute_result"
    }
   ],
   "source": [
    "media_algoritmos"
   ]
  },
  {
   "cell_type": "code",
   "execution_count": 15,
   "metadata": {},
   "outputs": [
    {
     "data": {
      "text/plain": [
       "<BarContainer object of 2 artists>"
      ]
     },
     "execution_count": 15,
     "metadata": {},
     "output_type": "execute_result"
    },
    {
     "data": {
      "image/png": "[encoded data removed]",
      "text/plain": [
       "<Figure size 640x480 with 1 Axes>"
      ]
     },
     "metadata": {},
     "output_type": "display_data"
    }
   ],
   "source": [
    "matplotlib.pyplot.figure()\n",
    "matplotlib.pyplot.bar(media_algoritmos.keys(), media_algoritmos.values())"
   ]
  }
 ],
 "metadata": {
  "kernelspec": {
   "display_name": "venv",
   "language": "python",
   "name": "python3"
  },
  "language_info": {
   "codemirror_mode": {
    "name": "ipython",
    "version": 3
   },
   "file_extension": ".py",
   "mimetype": "text/x-python",
   "name": "python",
   "nbconvert_exporter": "python",
   "pygments_lexer": "ipython3",
   "version": "3.12.1"
  }
 },
 "nbformat": 4,
 "nbformat_minor": 2
}
